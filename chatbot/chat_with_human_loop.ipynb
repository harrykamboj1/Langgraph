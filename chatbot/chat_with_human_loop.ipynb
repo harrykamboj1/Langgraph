{
 "cells": [
  {
   "cell_type": "code",
   "execution_count": 14,
   "metadata": {},
   "outputs": [
    {
     "data": {
      "image/png": "[encoded data removed]",
      "text/plain": [
       "<IPython.core.display.Image object>"
      ]
     },
     "metadata": {},
     "output_type": "display_data"
    }
   ],
   "source": [
    "from langgraph.graph import StateGraph, START, END, add_messages\n",
    "from typing import TypedDict, List,Annotated\n",
    "from langgraph.checkpoint.memory import MemorySaver\n",
    "from langchain_groq import ChatGroq\n",
    "from langchain_community.tools import TavilySearchResults\n",
    "from langgraph.prebuilt import ToolNode\n",
    "from langchain_core.messages import HumanMessage\n",
    "from IPython.display import Image,display\n",
    "\n",
    "\n",
    "memory = MemorySaver()\n",
    "llm = ChatGroq(model=\"llama-3.1-8b-instant\", temperature=0)\n",
    "search_tool = TavilySearchResults(max_results=2)\n",
    "tools = [search_tool]\n",
    "llm_with_tools = llm.bind_tools(tools=tools)\n",
    "\n",
    "\n",
    "class BasicState(TypedDict):\n",
    "    messages:Annotated[List,add_messages]\n",
    "\n",
    "def model(state:BasicState):\n",
    "    return {\n",
    "        \"messages\": [llm_with_tools.invoke(state[\"messages\"])]\n",
    "    }\n",
    "\n",
    "\n",
    "def tools_router(state: BasicState): \n",
    "    last_message = state[\"messages\"][-1]\n",
    "    should_continue = input(\"Do you want to continue? (y/n): \")\n",
    "    if should_continue.lower() != 'y':\n",
    "        return END\n",
    "    if(hasattr(last_message, \"tool_calls\") and \n",
    "    len(last_message.tool_calls) > 0):\n",
    "        return \"tools\"\n",
    "    else: \n",
    "        return END   \n",
    "\n",
    "\n",
    "graph = StateGraph(BasicState)\n",
    "graph.add_node(model, \"model\")\n",
    "graph.add_node(\"tools\", ToolNode(tools=tools))\n",
    "\n",
    "graph.set_entry_point(\"model\")\n",
    "graph.add_edge(\"tools\", \"model\")\n",
    "\n",
    "graph.add_conditional_edges(\"model\", tools_router)\n",
    "\n",
    "\n",
    "app = graph.compile(checkpointer=memory, interrupt_before=[\"tools\"])\n",
    "\n",
    "display(Image(app.get_graph().draw_mermaid_png()))\n",
    "\n",
    "config = {\"configurable\": {\n",
    "    \"thread_id\": 1\n",
    "}}\n",
    "\n",
    "events = app.stream({\n",
    "    \"messages\": [HumanMessage(content=\"What is the current weather in Chennai?\")]\n",
    "}, config=config, stream_mode=\"values\")\n",
    "\n",
    "\n",
    "\n",
    "for event in events:\n",
    "    event[\"messages\"][-1].pretty_print()"
   ]
  },
  {
   "cell_type": "code",
   "execution_count": null,
   "metadata": {},
   "outputs": [],
   "source": []
  }
 ],
 "metadata": {
  "kernelspec": {
   "display_name": "venv",
   "language": "python",
   "name": "python3"
  },
  "language_info": {
   "codemirror_mode": {
    "name": "ipython",
    "version": 3
   },
   "file_extension": ".py",
   "mimetype": "text/x-python",
   "name": "python",
   "nbconvert_exporter": "python",
   "pygments_lexer": "ipython3",
   "version": "3.12.7"
  }
 },
 "nbformat": 4,
 "nbformat_minor": 2
}
